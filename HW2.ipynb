{
 "cells": [
  {
   "cell_type": "markdown",
   "metadata": {},
   "source": [
    "# HW2 E24054025 陳彥溥"
   ]
  },
  {
   "cell_type": "code",
   "execution_count": 2,
   "metadata": {
    "scrolled": false
   },
   "outputs": [],
   "source": [
    "import pandas as pd\n",
    "import seaborn as sns\n",
    "dataset=pd.read_csv(\"Reviews.csv\")[:10000]"
   ]
  },
  {
   "cell_type": "code",
   "execution_count": 3,
   "metadata": {},
   "outputs": [],
   "source": [
    "index = dataset[\"UserId\"].value_counts().index"
   ]
  },
  {
   "cell_type": "code",
   "execution_count": 4,
   "metadata": {},
   "outputs": [],
   "source": [
    "reviewers = dataset.groupby(['UserId','ProfileName']).size().sort_values(ascending=False).reset_index(name='Score Count')"
   ]
  },
  {
   "cell_type": "code",
   "execution_count": 6,
   "metadata": {},
   "outputs": [],
   "source": [
    "sector = dataset.groupby(['UserId'])\n",
    "k =[]\n",
    "for i in index:\n",
    "    k.append(sector.get_group(i)[\"Score\"].mean())\n",
    "reviewers['means']=k\n"
   ]
  },
  {
   "cell_type": "code",
   "execution_count": 8,
   "metadata": {},
   "outputs": [
    {
     "data": {
      "text/html": [
       "<div>\n",
       "<style scoped>\n",
       "    .dataframe tbody tr th:only-of-type {\n",
       "        vertical-align: middle;\n",
       "    }\n",
       "\n",
       "    .dataframe tbody tr th {\n",
       "        vertical-align: top;\n",
       "    }\n",
       "\n",
       "    .dataframe thead th {\n",
       "        text-align: right;\n",
       "    }\n",
       "</style>\n",
       "<table border=\"1\" class=\"dataframe\">\n",
       "  <thead>\n",
       "    <tr style=\"text-align: right;\">\n",
       "      <th></th>\n",
       "      <th>UserId</th>\n",
       "      <th>ProfileName</th>\n",
       "      <th>Score Count</th>\n",
       "      <th>means</th>\n",
       "    </tr>\n",
       "  </thead>\n",
       "  <tbody>\n",
       "    <tr>\n",
       "      <th>0</th>\n",
       "      <td>A1Z54EM24Y40LL</td>\n",
       "      <td>c2</td>\n",
       "      <td>17</td>\n",
       "      <td>3.882353</td>\n",
       "    </tr>\n",
       "    <tr>\n",
       "      <th>1</th>\n",
       "      <td>A2SZLNSI5KOQJT</td>\n",
       "      <td>Carrie, \"Formerly &amp;#34;Sister Carrie&amp;#34;\"</td>\n",
       "      <td>10</td>\n",
       "      <td>3.800000</td>\n",
       "    </tr>\n",
       "    <tr>\n",
       "      <th>2</th>\n",
       "      <td>A35R32TA60XD57</td>\n",
       "      <td>M. Torma</td>\n",
       "      <td>9</td>\n",
       "      <td>4.111111</td>\n",
       "    </tr>\n",
       "    <tr>\n",
       "      <th>3</th>\n",
       "      <td>A281NPSIMI1C2R</td>\n",
       "      <td>Rebecca of Amazon \"The Rebecca Review\"</td>\n",
       "      <td>8</td>\n",
       "      <td>5.000000</td>\n",
       "    </tr>\n",
       "    <tr>\n",
       "      <th>4</th>\n",
       "      <td>A3OXHLG6DIBRW8</td>\n",
       "      <td>C. F. Hill \"CFH\"</td>\n",
       "      <td>7</td>\n",
       "      <td>3.142857</td>\n",
       "    </tr>\n",
       "    <tr>\n",
       "      <th>5</th>\n",
       "      <td>A3NHUQ33CFH3VM</td>\n",
       "      <td>Citizen John</td>\n",
       "      <td>7</td>\n",
       "      <td>4.714286</td>\n",
       "    </tr>\n",
       "    <tr>\n",
       "      <th>6</th>\n",
       "      <td>A3PJZ8TU8FDQ1K</td>\n",
       "      <td>Jared Castle</td>\n",
       "      <td>7</td>\n",
       "      <td>4.428571</td>\n",
       "    </tr>\n",
       "    <tr>\n",
       "      <th>7</th>\n",
       "      <td>A3TX6CWSZL02PW</td>\n",
       "      <td>LaVerne \":LaVerne\"</td>\n",
       "      <td>6</td>\n",
       "      <td>5.000000</td>\n",
       "    </tr>\n",
       "    <tr>\n",
       "      <th>8</th>\n",
       "      <td>AQQLWCMRNDFGI</td>\n",
       "      <td>Steven A. Peterson</td>\n",
       "      <td>6</td>\n",
       "      <td>4.166667</td>\n",
       "    </tr>\n",
       "    <tr>\n",
       "      <th>9</th>\n",
       "      <td>A2R6RA8FRBS608</td>\n",
       "      <td>Matthew G. Sherwin</td>\n",
       "      <td>6</td>\n",
       "      <td>4.500000</td>\n",
       "    </tr>\n",
       "  </tbody>\n",
       "</table>\n",
       "</div>"
      ],
      "text/plain": [
       "           UserId                                 ProfileName  Score Count  \\\n",
       "0  A1Z54EM24Y40LL                                          c2           17   \n",
       "1  A2SZLNSI5KOQJT  Carrie, \"Formerly &#34;Sister Carrie&#34;\"           10   \n",
       "2  A35R32TA60XD57                                    M. Torma            9   \n",
       "3  A281NPSIMI1C2R      Rebecca of Amazon \"The Rebecca Review\"            8   \n",
       "4  A3OXHLG6DIBRW8                            C. F. Hill \"CFH\"            7   \n",
       "5  A3NHUQ33CFH3VM                                Citizen John            7   \n",
       "6  A3PJZ8TU8FDQ1K                                Jared Castle            7   \n",
       "7  A3TX6CWSZL02PW                          LaVerne \":LaVerne\"            6   \n",
       "8   AQQLWCMRNDFGI                          Steven A. Peterson            6   \n",
       "9  A2R6RA8FRBS608                          Matthew G. Sherwin            6   \n",
       "\n",
       "      means  \n",
       "0  3.882353  \n",
       "1  3.800000  \n",
       "2  4.111111  \n",
       "3  5.000000  \n",
       "4  3.142857  \n",
       "5  4.714286  \n",
       "6  4.428571  \n",
       "7  5.000000  \n",
       "8  4.166667  \n",
       "9  4.500000  "
      ]
     },
     "execution_count": 8,
     "metadata": {},
     "output_type": "execute_result"
    }
   ],
   "source": [
    "reviewers.head(10)"
   ]
  },
  {
   "cell_type": "markdown",
   "metadata": {},
   "source": [
    "# 2. Plot score distribution for the user with the most number of reviews"
   ]
  },
  {
   "cell_type": "code",
   "execution_count": 9,
   "metadata": {},
   "outputs": [
    {
     "data": {
      "text/plain": [
       "<matplotlib.axes._subplots.AxesSubplot at 0x26a2aa26390>"
      ]
     },
     "execution_count": 9,
     "metadata": {},
     "output_type": "execute_result"
    },
    {
     "data": {
      "image/png": "[encoded data removed]",
      "text/plain": [
       "<Figure size 432x288 with 1 Axes>"
      ]
     },
     "metadata": {},
     "output_type": "display_data"
    }
   ],
   "source": [
    "scores = sector.get_group(index[0])[\"Score\"]\n",
    "sns.set()\n",
    "sns.countplot(scores)"
   ]
  },
  {
   "cell_type": "markdown",
   "metadata": {},
   "source": [
    "# 3. Plot pandas Series DataFrame (Time->Date)\n"
   ]
  },
  {
   "cell_type": "code",
   "execution_count": 28,
   "metadata": {},
   "outputs": [],
   "source": [
    "read = dataset['Time'].sort_values(ascending=True)/31556926+1970\n",
    "from collections import defaultdict\n",
    "from bisect import bisect_left\n",
    "\n",
    "def count_intervals(sequence, intervals):\n",
    "    count = defaultdict(int)\n",
    "    intervals.sort()\n",
    "    for item in sequence:\n",
    "        pos = bisect_left(intervals, item)\n",
    "        if pos == len(intervals):\n",
    "            count[None] += 1\n",
    "        else:\n",
    "            count[intervals[pos]] += 1\n",
    "    return count\n",
    "x = [i for i in range(2000,2014,1)]\n",
    "z = count_intervals(read,x)\n",
    "d = []\n",
    "for i in x:\n",
    "    d.append(z[i])"
   ]
  },
  {
   "cell_type": "code",
   "execution_count": 33,
   "metadata": {},
   "outputs": [
    {
     "data": {
      "image/png": "[encoded data removed]",
      "text/plain": [
       "<Figure size 432x288 with 1 Axes>"
      ]
     },
     "metadata": {},
     "output_type": "display_data"
    }
   ],
   "source": [
    "import matplotlib.pyplot as plt\n",
    "plt.title('Review count by year')\n",
    "plt.xlabel('Review year')\n",
    "plt.ylabel('Review count')\n",
    "plt.bar(x,d)\n",
    "plt.show()\n",
    "#sns.set()"
   ]
  },
  {
   "cell_type": "markdown",
   "metadata": {},
   "source": [
    "# 4. Plot HeatMap using seaborn"
   ]
  },
  {
   "cell_type": "code",
   "execution_count": 31,
   "metadata": {},
   "outputs": [],
   "source": [
    "corr = dataset.corr()"
   ]
  },
  {
   "cell_type": "code",
   "execution_count": 39,
   "metadata": {},
   "outputs": [
    {
     "data": {
      "text/plain": [
       "<matplotlib.axes._subplots.AxesSubplot at 0x26a2b122390>"
      ]
     },
     "execution_count": 39,
     "metadata": {},
     "output_type": "execute_result"
    },
    {
     "data": {
      "image/png": "[encoded data removed]",
      "text/plain": [
       "<Figure size 576x576 with 2 Axes>"
      ]
     },
     "metadata": {},
     "output_type": "display_data"
    }
   ],
   "source": [
    "plt.figure(figsize=(8, 8))\n",
    "sns.heatmap(corr,annot=True)"
   ]
  },
  {
   "cell_type": "markdown",
   "metadata": {},
   "source": [
    "# 5. Helpful percent"
   ]
  },
  {
   "cell_type": "code",
   "execution_count": 55,
   "metadata": {},
   "outputs": [
    {
     "data": {
      "image/png": "[encoded data removed]",
      "text/plain": [
       "<Figure size 432x288 with 1 Axes>"
      ]
     },
     "metadata": {},
     "output_type": "display_data"
    }
   ],
   "source": [
    "def percent(row):\n",
    "    if row['HelpfulnessNumerator'] <= row['HelpfulnessDenominator'] and row['HelpfulnessDenominator']!= 0:\n",
    "        return row['HelpfulnessNumerator']/row['HelpfulnessDenominator']\n",
    "    elif row['HelpfulnessNumerator'] == 0 and row['HelpfulnessDenominator'] == 0:\n",
    "        return -1\n",
    "    else:\n",
    "        return 0\n",
    "dataset['Help percent'] = dataset.apply(percent,axis = 1)\n",
    "plt.hist(dataset['Help percent'])\n",
    "plt.title('Help percent')\n",
    "plt.show()"
   ]
  },
  {
   "cell_type": "code",
   "execution_count": null,
   "metadata": {},
   "outputs": [],
   "source": []
  }
 ],
 "metadata": {
  "kernelspec": {
   "display_name": "Python 3",
   "language": "python",
   "name": "python3"
  },
  "language_info": {
   "codemirror_mode": {
    "name": "ipython",
    "version": 3
   },
   "file_extension": ".py",
   "mimetype": "text/x-python",
   "name": "python",
   "nbconvert_exporter": "python",
   "pygments_lexer": "ipython3",
   "version": "3.7.3"
  }
 },
 "nbformat": 4,
 "nbformat_minor": 2
}
