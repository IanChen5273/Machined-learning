{
 "cells": [
  {
   "cell_type": "code",
   "execution_count": 2,
   "metadata": {
    "scrolled": false
   },
   "outputs": [],
   "source": [
    "import pandas as pd\n",
    "import seaborn as sns\n",
    "dataset=pd.read_csv(\"Reviews.csv\")[:10000]"
   ]
  },
  {
   "cell_type": "code",
   "execution_count": 181,
   "metadata": {},
   "outputs": [],
   "source": [
    "index = dataset[\"UserId\"].value_counts().index"
   ]
  },
  {
   "cell_type": "code",
   "execution_count": 267,
   "metadata": {},
   "outputs": [],
   "source": [
    "reviewers = dataset.groupby(['UserId','ProfileName']).size().sort_values(ascending=False).reset_index(name='Score Count')"
   ]
  },
  {
   "cell_type": "code",
   "execution_count": 265,
   "metadata": {},
   "outputs": [],
   "source": [
    "k =[]\n",
    "for i in index:\n",
    "    k.append(sector.get_group(i)[\"Score\"].mean())\n",
    "reviewers['means']=k\n"
   ]
  },
  {
   "cell_type": "code",
   "execution_count": 266,
   "metadata": {},
   "outputs": [
    {
     "data": {
      "text/html": [
       "<div>\n",
       "<style scoped>\n",
       "    .dataframe tbody tr th:only-of-type {\n",
       "        vertical-align: middle;\n",
       "    }\n",
       "\n",
       "    .dataframe tbody tr th {\n",
       "        vertical-align: top;\n",
       "    }\n",
       "\n",
       "    .dataframe thead th {\n",
       "        text-align: right;\n",
       "    }\n",
       "</style>\n",
       "<table border=\"1\" class=\"dataframe\">\n",
       "  <thead>\n",
       "    <tr style=\"text-align: right;\">\n",
       "      <th></th>\n",
       "      <th>UserId</th>\n",
       "      <th>ProfileName</th>\n",
       "      <th>Score Count</th>\n",
       "      <th>means</th>\n",
       "    </tr>\n",
       "  </thead>\n",
       "  <tbody>\n",
       "    <tr>\n",
       "      <th>0</th>\n",
       "      <td>A1Z54EM24Y40LL</td>\n",
       "      <td>c2</td>\n",
       "      <td>17</td>\n",
       "      <td>3.882353</td>\n",
       "    </tr>\n",
       "    <tr>\n",
       "      <th>1</th>\n",
       "      <td>A2SZLNSI5KOQJT</td>\n",
       "      <td>Carrie, \"Formerly &amp;#34;Sister Carrie&amp;#34;\"</td>\n",
       "      <td>10</td>\n",
       "      <td>3.800000</td>\n",
       "    </tr>\n",
       "    <tr>\n",
       "      <th>2</th>\n",
       "      <td>A35R32TA60XD57</td>\n",
       "      <td>M. Torma</td>\n",
       "      <td>9</td>\n",
       "      <td>4.111111</td>\n",
       "    </tr>\n",
       "    <tr>\n",
       "      <th>3</th>\n",
       "      <td>A281NPSIMI1C2R</td>\n",
       "      <td>Rebecca of Amazon \"The Rebecca Review\"</td>\n",
       "      <td>8</td>\n",
       "      <td>5.000000</td>\n",
       "    </tr>\n",
       "    <tr>\n",
       "      <th>4</th>\n",
       "      <td>A3OXHLG6DIBRW8</td>\n",
       "      <td>C. F. Hill \"CFH\"</td>\n",
       "      <td>7</td>\n",
       "      <td>4.714286</td>\n",
       "    </tr>\n",
       "  </tbody>\n",
       "</table>\n",
       "</div>"
      ],
      "text/plain": [
       "           UserId                                 ProfileName  Score Count  \\\n",
       "0  A1Z54EM24Y40LL                                          c2           17   \n",
       "1  A2SZLNSI5KOQJT  Carrie, \"Formerly &#34;Sister Carrie&#34;\"           10   \n",
       "2  A35R32TA60XD57                                    M. Torma            9   \n",
       "3  A281NPSIMI1C2R      Rebecca of Amazon \"The Rebecca Review\"            8   \n",
       "4  A3OXHLG6DIBRW8                            C. F. Hill \"CFH\"            7   \n",
       "\n",
       "      means  \n",
       "0  3.882353  \n",
       "1  3.800000  \n",
       "2  4.111111  \n",
       "3  5.000000  \n",
       "4  4.714286  "
      ]
     },
     "execution_count": 266,
     "metadata": {},
     "output_type": "execute_result"
    }
   ],
   "source": [
    "reviewers.head(5)"
   ]
  },
  {
   "cell_type": "code",
   "execution_count": 274,
   "metadata": {},
   "outputs": [
    {
     "data": {
      "text/plain": [
       "<matplotlib.axes._subplots.AxesSubplot at 0x239707cdba8>"
      ]
     },
     "execution_count": 274,
     "metadata": {},
     "output_type": "execute_result"
    },
    {
     "data": {
      "image/png": "[encoded data removed]",
      "text/plain": [
       "<Figure size 432x288 with 1 Axes>"
      ]
     },
     "metadata": {},
     "output_type": "display_data"
    }
   ],
   "source": [
    "scores = sector.get_group(index[0])[\"Score\"]\n",
    "sns.set()\n",
    "sns.countplot(scores)"
   ]
  },
  {
   "cell_type": "code",
   "execution_count": 432,
   "metadata": {},
   "outputs": [],
   "source": [
    "read = dataset['Time'].sort_values(ascending=True)/525600\n",
    "from collections import defaultdict\n",
    "from bisect import bisect_left\n",
    "\n",
    "def count_intervals(sequence, intervals):\n",
    "    count = defaultdict(int)\n",
    "    intervals.sort()\n",
    "    for item in sequence:\n",
    "        pos = bisect_left(intervals, item)\n",
    "        if pos == len(intervals):\n",
    "            count[None] += 1\n",
    "        else:\n",
    "            count[intervals[pos]] += 1\n",
    "    return count\n",
    "k = [i for i in range(1829,2570+int((2570-1829)/13),int((2570-1829)/13))]\n",
    "z = count_intervals(read,k)\n",
    "d = []\n",
    "for i in k:\n",
    "    d.append(z[i])"
   ]
  },
  {
   "cell_type": "code",
   "execution_count": 430,
   "metadata": {},
   "outputs": [
    {
     "data": {
      "image/png": "[encoded data removed]",
      "text/plain": [
       "<Figure size 432x288 with 1 Axes>"
      ]
     },
     "metadata": {},
     "output_type": "display_data"
    }
   ],
   "source": [
    "import matplotlib.pyplot as plt\n",
    "plt.title('Review count by year')\n",
    "plt.xlabel('Review year')\n",
    "plt.ylabel('Review count')\n",
    "x = [i for i in range(2000,2014,1)]\n",
    "plt.bar(x,d)\n",
    "plt.show()\n",
    "#sns.set()"
   ]
  },
  {
   "cell_type": "code",
   "execution_count": 3,
   "metadata": {},
   "outputs": [],
   "source": [
    "corr = dataset.corr()"
   ]
  },
  {
   "cell_type": "code",
   "execution_count": 5,
   "metadata": {},
   "outputs": [
    {
     "data": {
      "text/plain": [
       "<matplotlib.axes._subplots.AxesSubplot at 0x1c7947222b0>"
      ]
     },
     "execution_count": 5,
     "metadata": {},
     "output_type": "execute_result"
    },
    {
     "data": {
      "image/png": "[encoded data removed]",
      "text/plain": [
       "<Figure size 432x288 with 2 Axes>"
      ]
     },
     "metadata": {
      "needs_background": "light"
     },
     "output_type": "display_data"
    }
   ],
   "source": [
    "sns.heatmap(corr)"
   ]
  },
  {
   "cell_type": "code",
   "execution_count": null,
   "metadata": {},
   "outputs": [],
   "source": []
  }
 ],
 "metadata": {
  "kernelspec": {
   "display_name": "Python 3",
   "language": "python",
   "name": "python3"
  },
  "language_info": {
   "codemirror_mode": {
    "name": "ipython",
    "version": 3
   },
   "file_extension": ".py",
   "mimetype": "text/x-python",
   "name": "python",
   "nbconvert_exporter": "python",
   "pygments_lexer": "ipython3",
   "version": "3.7.3"
  }
 },
 "nbformat": 4,
 "nbformat_minor": 2
}
